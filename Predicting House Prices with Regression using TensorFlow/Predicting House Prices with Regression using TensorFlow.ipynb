{
 "cells": [
  {
   "cell_type": "markdown",
   "metadata": {},
   "source": [
    "# Predicting House Prices with Regression using TensorFlow"
   ]
  },
  {
   "cell_type": "markdown",
   "metadata": {},
   "source": [
    "Task 1: Introduction\n",
    "\n",
    "For this project, we are going to work on evaluating price of houses given the following features:\n",
    "\n",
    "    Year of sale of the house\n",
    "    The age of the house at the time of sale\n",
    "    Distance from city center\n",
    "    Number of stores in the locality\n",
    "    The latitude\n",
    "    The longitude\n"
   ]
  },
  {
   "cell_type": "code",
   "execution_count": null,
   "metadata": {},
   "outputs": [],
   "source": [
    "import pandas as pd\n",
    "import matplotlib.pyplot as plt\n",
    "import tensorflow as tf\n",
    "from utils import *\n",
    "from sklearn.model_selection import train_test_split\n",
    "from tensorflow.keras.models import Sequential\n",
    "from tensorflow.keras.layers import Dense, Dropout\n",
    "from tensorflow.keras.callbacks import EarlyStopping, LambdaCallback\n",
    "%matplotlib inline\n",
    "print('Libraries imported.')"
   ]
  },
  {
   "cell_type": "code",
   "execution_count": 3,
   "metadata": {
    "scrolled": true
   },
   "outputs": [
    {
     "name": "stdout",
     "output_type": "stream",
     "text": [
      "Collecting utils\n",
      "  Downloading utils-1.0.1-py2.py3-none-any.whl (21 kB)\n",
      "Installing collected packages: utils\n",
      "Successfully installed utils-1.0.1\n"
     ]
    }
   ],
   "source": [
    "!pip install utils"
   ]
  },
  {
   "cell_type": "code",
   "execution_count": 13,
   "metadata": {},
   "outputs": [],
   "source": [
    "import tensorflow.compat.v1 as tf\n",
    "tf.disable_v2_behavior()"
   ]
  },
  {
   "cell_type": "code",
   "execution_count": 14,
   "metadata": {},
   "outputs": [],
   "source": [
    "import pandas as pd\n",
    "import matplotlib.pyplot as plt\n",
    "#import tensorflow as tf\n",
    "from utils import *\n",
    "from sklearn.model_selection import train_test_split\n",
    "from tensorflow.keras.models import Sequential\n",
    "from tensorflow.keras.layers import Dense, Dropout\n",
    "from tensorflow.keras.callbacks import EarlyStopping, LambdaCallback\n",
    "%matplotlib inline\n",
    "tf.logging.set_verbosity(tf.logging.ERROR)"
   ]
  },
  {
   "cell_type": "markdown",
   "metadata": {},
   "source": [
    "# Task 2: Importing the Data\n",
    "## 2.1: Importing the Data"
   ]
  },
  {
   "cell_type": "code",
   "execution_count": 15,
   "metadata": {},
   "outputs": [],
   "source": [
    "df=pd.read_excel('df.xlsx')"
   ]
  },
  {
   "cell_type": "code",
   "execution_count": 17,
   "metadata": {},
   "outputs": [
    {
     "data": {
      "text/html": [
       "<div>\n",
       "<style scoped>\n",
       "    .dataframe tbody tr th:only-of-type {\n",
       "        vertical-align: middle;\n",
       "    }\n",
       "\n",
       "    .dataframe tbody tr th {\n",
       "        vertical-align: top;\n",
       "    }\n",
       "\n",
       "    .dataframe thead th {\n",
       "        text-align: right;\n",
       "    }\n",
       "</style>\n",
       "<table border=\"1\" class=\"dataframe\">\n",
       "  <thead>\n",
       "    <tr style=\"text-align: right;\">\n",
       "      <th></th>\n",
       "      <th>serial</th>\n",
       "      <th>date</th>\n",
       "      <th>age</th>\n",
       "      <th>distance</th>\n",
       "      <th>stores</th>\n",
       "      <th>latitude</th>\n",
       "      <th>longitude</th>\n",
       "      <th>price</th>\n",
       "    </tr>\n",
       "  </thead>\n",
       "  <tbody>\n",
       "    <tr>\n",
       "      <th>0</th>\n",
       "      <td>0</td>\n",
       "      <td>2009</td>\n",
       "      <td>21</td>\n",
       "      <td>9</td>\n",
       "      <td>6</td>\n",
       "      <td>84</td>\n",
       "      <td>121</td>\n",
       "      <td>14264</td>\n",
       "    </tr>\n",
       "    <tr>\n",
       "      <th>1</th>\n",
       "      <td>1</td>\n",
       "      <td>2007</td>\n",
       "      <td>4</td>\n",
       "      <td>2</td>\n",
       "      <td>3</td>\n",
       "      <td>86</td>\n",
       "      <td>121</td>\n",
       "      <td>12032</td>\n",
       "    </tr>\n",
       "    <tr>\n",
       "      <th>2</th>\n",
       "      <td>2</td>\n",
       "      <td>2016</td>\n",
       "      <td>18</td>\n",
       "      <td>3</td>\n",
       "      <td>7</td>\n",
       "      <td>90</td>\n",
       "      <td>120</td>\n",
       "      <td>13560</td>\n",
       "    </tr>\n",
       "    <tr>\n",
       "      <th>3</th>\n",
       "      <td>3</td>\n",
       "      <td>2002</td>\n",
       "      <td>13</td>\n",
       "      <td>2</td>\n",
       "      <td>2</td>\n",
       "      <td>80</td>\n",
       "      <td>128</td>\n",
       "      <td>12029</td>\n",
       "    </tr>\n",
       "    <tr>\n",
       "      <th>4</th>\n",
       "      <td>4</td>\n",
       "      <td>2014</td>\n",
       "      <td>25</td>\n",
       "      <td>5</td>\n",
       "      <td>8</td>\n",
       "      <td>81</td>\n",
       "      <td>122</td>\n",
       "      <td>14157</td>\n",
       "    </tr>\n",
       "  </tbody>\n",
       "</table>\n",
       "</div>"
      ],
      "text/plain": [
       "   serial  date  age  distance  stores  latitude  longitude  price\n",
       "0       0  2009   21         9       6        84        121  14264\n",
       "1       1  2007    4         2       3        86        121  12032\n",
       "2       2  2016   18         3       7        90        120  13560\n",
       "3       3  2002   13         2       2        80        128  12029\n",
       "4       4  2014   25         5       8        81        122  14157"
      ]
     },
     "execution_count": 17,
     "metadata": {},
     "output_type": "execute_result"
    }
   ],
   "source": [
    "df.head()"
   ]
  },
  {
   "cell_type": "markdown",
   "metadata": {},
   "source": [
    "# 2.2: Check Missing Data\n",
    "\n",
    "It's a good practice to check if the data has any missing values. In real world data, this is quite common and must be taken care of before any data pre-processing or model training.\n",
    "\n"
   ]
  },
  {
   "cell_type": "code",
   "execution_count": 18,
   "metadata": {},
   "outputs": [
    {
     "data": {
      "text/plain": [
       "serial       0\n",
       "date         0\n",
       "age          0\n",
       "distance     0\n",
       "stores       0\n",
       "latitude     0\n",
       "longitude    0\n",
       "price        0\n",
       "dtype: int64"
      ]
     },
     "execution_count": 18,
     "metadata": {},
     "output_type": "execute_result"
    }
   ],
   "source": [
    "df.isna().sum()"
   ]
  },
  {
   "cell_type": "markdown",
   "metadata": {},
   "source": [
    "# Task 3: Data Normalization\n",
    "3.1: Data Normalization\n",
    "\n",
    "We can make it easier for optimization algorithms to find minimas by normalizing the data before training a model."
   ]
  },
  {
   "cell_type": "code",
   "execution_count": 19,
   "metadata": {},
   "outputs": [],
   "source": [
    "df = df.iloc[:,1:]"
   ]
  },
  {
   "cell_type": "code",
   "execution_count": 20,
   "metadata": {
    "scrolled": true
   },
   "outputs": [
    {
     "data": {
      "text/html": [
       "<div>\n",
       "<style scoped>\n",
       "    .dataframe tbody tr th:only-of-type {\n",
       "        vertical-align: middle;\n",
       "    }\n",
       "\n",
       "    .dataframe tbody tr th {\n",
       "        vertical-align: top;\n",
       "    }\n",
       "\n",
       "    .dataframe thead th {\n",
       "        text-align: right;\n",
       "    }\n",
       "</style>\n",
       "<table border=\"1\" class=\"dataframe\">\n",
       "  <thead>\n",
       "    <tr style=\"text-align: right;\">\n",
       "      <th></th>\n",
       "      <th>date</th>\n",
       "      <th>age</th>\n",
       "      <th>distance</th>\n",
       "      <th>stores</th>\n",
       "      <th>latitude</th>\n",
       "      <th>longitude</th>\n",
       "      <th>price</th>\n",
       "    </tr>\n",
       "  </thead>\n",
       "  <tbody>\n",
       "    <tr>\n",
       "      <th>0</th>\n",
       "      <td>2009</td>\n",
       "      <td>21</td>\n",
       "      <td>9</td>\n",
       "      <td>6</td>\n",
       "      <td>84</td>\n",
       "      <td>121</td>\n",
       "      <td>14264</td>\n",
       "    </tr>\n",
       "    <tr>\n",
       "      <th>1</th>\n",
       "      <td>2007</td>\n",
       "      <td>4</td>\n",
       "      <td>2</td>\n",
       "      <td>3</td>\n",
       "      <td>86</td>\n",
       "      <td>121</td>\n",
       "      <td>12032</td>\n",
       "    </tr>\n",
       "    <tr>\n",
       "      <th>2</th>\n",
       "      <td>2016</td>\n",
       "      <td>18</td>\n",
       "      <td>3</td>\n",
       "      <td>7</td>\n",
       "      <td>90</td>\n",
       "      <td>120</td>\n",
       "      <td>13560</td>\n",
       "    </tr>\n",
       "    <tr>\n",
       "      <th>3</th>\n",
       "      <td>2002</td>\n",
       "      <td>13</td>\n",
       "      <td>2</td>\n",
       "      <td>2</td>\n",
       "      <td>80</td>\n",
       "      <td>128</td>\n",
       "      <td>12029</td>\n",
       "    </tr>\n",
       "    <tr>\n",
       "      <th>4</th>\n",
       "      <td>2014</td>\n",
       "      <td>25</td>\n",
       "      <td>5</td>\n",
       "      <td>8</td>\n",
       "      <td>81</td>\n",
       "      <td>122</td>\n",
       "      <td>14157</td>\n",
       "    </tr>\n",
       "  </tbody>\n",
       "</table>\n",
       "</div>"
      ],
      "text/plain": [
       "   date  age  distance  stores  latitude  longitude  price\n",
       "0  2009   21         9       6        84        121  14264\n",
       "1  2007    4         2       3        86        121  12032\n",
       "2  2016   18         3       7        90        120  13560\n",
       "3  2002   13         2       2        80        128  12029\n",
       "4  2014   25         5       8        81        122  14157"
      ]
     },
     "execution_count": 20,
     "metadata": {},
     "output_type": "execute_result"
    }
   ],
   "source": [
    "df.head()"
   ]
  },
  {
   "cell_type": "code",
   "execution_count": 21,
   "metadata": {},
   "outputs": [
    {
     "data": {
      "text/html": [
       "<div>\n",
       "<style scoped>\n",
       "    .dataframe tbody tr th:only-of-type {\n",
       "        vertical-align: middle;\n",
       "    }\n",
       "\n",
       "    .dataframe tbody tr th {\n",
       "        vertical-align: top;\n",
       "    }\n",
       "\n",
       "    .dataframe thead th {\n",
       "        text-align: right;\n",
       "    }\n",
       "</style>\n",
       "<table border=\"1\" class=\"dataframe\">\n",
       "  <thead>\n",
       "    <tr style=\"text-align: right;\">\n",
       "      <th></th>\n",
       "      <th>date</th>\n",
       "      <th>age</th>\n",
       "      <th>distance</th>\n",
       "      <th>stores</th>\n",
       "      <th>latitude</th>\n",
       "      <th>longitude</th>\n",
       "      <th>price</th>\n",
       "    </tr>\n",
       "  </thead>\n",
       "  <tbody>\n",
       "    <tr>\n",
       "      <th>0</th>\n",
       "      <td>0.220504</td>\n",
       "      <td>0.264821</td>\n",
       "      <td>1.062970</td>\n",
       "      <td>0.323168</td>\n",
       "      <td>-0.230403</td>\n",
       "      <td>-1.106239</td>\n",
       "      <td>0.314373</td>\n",
       "    </tr>\n",
       "    <tr>\n",
       "      <th>1</th>\n",
       "      <td>-0.162982</td>\n",
       "      <td>-1.402571</td>\n",
       "      <td>-1.178232</td>\n",
       "      <td>-0.636736</td>\n",
       "      <td>0.368046</td>\n",
       "      <td>-1.106239</td>\n",
       "      <td>-2.177568</td>\n",
       "    </tr>\n",
       "    <tr>\n",
       "      <th>2</th>\n",
       "      <td>1.562706</td>\n",
       "      <td>-0.029425</td>\n",
       "      <td>-0.858060</td>\n",
       "      <td>0.643136</td>\n",
       "      <td>1.564944</td>\n",
       "      <td>-1.422307</td>\n",
       "      <td>-0.471615</td>\n",
       "    </tr>\n",
       "    <tr>\n",
       "      <th>3</th>\n",
       "      <td>-1.121697</td>\n",
       "      <td>-0.519834</td>\n",
       "      <td>-1.178232</td>\n",
       "      <td>-0.956704</td>\n",
       "      <td>-1.427300</td>\n",
       "      <td>1.106239</td>\n",
       "      <td>-2.180917</td>\n",
       "    </tr>\n",
       "    <tr>\n",
       "      <th>4</th>\n",
       "      <td>1.179220</td>\n",
       "      <td>0.657149</td>\n",
       "      <td>-0.217717</td>\n",
       "      <td>0.963104</td>\n",
       "      <td>-1.128076</td>\n",
       "      <td>-0.790170</td>\n",
       "      <td>0.194912</td>\n",
       "    </tr>\n",
       "  </tbody>\n",
       "</table>\n",
       "</div>"
      ],
      "text/plain": [
       "       date       age  distance    stores  latitude  longitude     price\n",
       "0  0.220504  0.264821  1.062970  0.323168 -0.230403  -1.106239  0.314373\n",
       "1 -0.162982 -1.402571 -1.178232 -0.636736  0.368046  -1.106239 -2.177568\n",
       "2  1.562706 -0.029425 -0.858060  0.643136  1.564944  -1.422307 -0.471615\n",
       "3 -1.121697 -0.519834 -1.178232 -0.956704 -1.427300   1.106239 -2.180917\n",
       "4  1.179220  0.657149 -0.217717  0.963104 -1.128076  -0.790170  0.194912"
      ]
     },
     "execution_count": 21,
     "metadata": {},
     "output_type": "execute_result"
    }
   ],
   "source": [
    "df_norm = (df-df.mean())/df.std()\n",
    "df_norm.head()"
   ]
  },
  {
   "cell_type": "markdown",
   "metadata": {},
   "source": [
    "# 3.2: Convert Label Value\n",
    "\n",
    "Because we are using normalized values for the labels, we will get the predictions back from a trained model in the same distribution. So, we need to convert the predicted values back to the original distribution if we want predicted prices.\n"
   ]
  },
  {
   "cell_type": "code",
   "execution_count": 23,
   "metadata": {},
   "outputs": [
    {
     "name": "stdout",
     "output_type": "stream",
     "text": [
      "14263.999932211185\n"
     ]
    }
   ],
   "source": [
    "y_mean = df['price'].mean()\n",
    "y_std = df['price'].std()\n",
    "def convert_label_values(pred):\n",
    "    return(pred*y_std+y_mean)\n",
    "print(convert_label_values(0.314373))"
   ]
  },
  {
   "cell_type": "markdown",
   "metadata": {},
   "source": [
    "# Task 4: Create Training and Test Sets\n",
    "4.1: Select Features\n",
    "\n",
    "Make sure to remove the column price from the list of features as it is the label and should not be used as a feature."
   ]
  },
  {
   "cell_type": "code",
   "execution_count": 29,
   "metadata": {},
   "outputs": [
    {
     "data": {
      "text/html": [
       "<div>\n",
       "<style scoped>\n",
       "    .dataframe tbody tr th:only-of-type {\n",
       "        vertical-align: middle;\n",
       "    }\n",
       "\n",
       "    .dataframe tbody tr th {\n",
       "        vertical-align: top;\n",
       "    }\n",
       "\n",
       "    .dataframe thead th {\n",
       "        text-align: right;\n",
       "    }\n",
       "</style>\n",
       "<table border=\"1\" class=\"dataframe\">\n",
       "  <thead>\n",
       "    <tr style=\"text-align: right;\">\n",
       "      <th></th>\n",
       "      <th>date</th>\n",
       "      <th>age</th>\n",
       "      <th>distance</th>\n",
       "      <th>stores</th>\n",
       "      <th>latitude</th>\n",
       "      <th>longitude</th>\n",
       "    </tr>\n",
       "  </thead>\n",
       "  <tbody>\n",
       "    <tr>\n",
       "      <th>0</th>\n",
       "      <td>0.220504</td>\n",
       "      <td>0.264821</td>\n",
       "      <td>1.062970</td>\n",
       "      <td>0.323168</td>\n",
       "      <td>-0.230403</td>\n",
       "      <td>-1.106239</td>\n",
       "    </tr>\n",
       "    <tr>\n",
       "      <th>1</th>\n",
       "      <td>-0.162982</td>\n",
       "      <td>-1.402571</td>\n",
       "      <td>-1.178232</td>\n",
       "      <td>-0.636736</td>\n",
       "      <td>0.368046</td>\n",
       "      <td>-1.106239</td>\n",
       "    </tr>\n",
       "    <tr>\n",
       "      <th>2</th>\n",
       "      <td>1.562706</td>\n",
       "      <td>-0.029425</td>\n",
       "      <td>-0.858060</td>\n",
       "      <td>0.643136</td>\n",
       "      <td>1.564944</td>\n",
       "      <td>-1.422307</td>\n",
       "    </tr>\n",
       "    <tr>\n",
       "      <th>3</th>\n",
       "      <td>-1.121697</td>\n",
       "      <td>-0.519834</td>\n",
       "      <td>-1.178232</td>\n",
       "      <td>-0.956704</td>\n",
       "      <td>-1.427300</td>\n",
       "      <td>1.106239</td>\n",
       "    </tr>\n",
       "    <tr>\n",
       "      <th>4</th>\n",
       "      <td>1.179220</td>\n",
       "      <td>0.657149</td>\n",
       "      <td>-0.217717</td>\n",
       "      <td>0.963104</td>\n",
       "      <td>-1.128076</td>\n",
       "      <td>-0.790170</td>\n",
       "    </tr>\n",
       "  </tbody>\n",
       "</table>\n",
       "</div>"
      ],
      "text/plain": [
       "       date       age  distance    stores  latitude  longitude\n",
       "0  0.220504  0.264821  1.062970  0.323168 -0.230403  -1.106239\n",
       "1 -0.162982 -1.402571 -1.178232 -0.636736  0.368046  -1.106239\n",
       "2  1.562706 -0.029425 -0.858060  0.643136  1.564944  -1.422307\n",
       "3 -1.121697 -0.519834 -1.178232 -0.956704 -1.427300   1.106239\n",
       "4  1.179220  0.657149 -0.217717  0.963104 -1.128076  -0.790170"
      ]
     },
     "execution_count": 29,
     "metadata": {},
     "output_type": "execute_result"
    }
   ],
   "source": [
    "x = df_norm.iloc[:,:6]\n",
    "x.head()"
   ]
  },
  {
   "cell_type": "code",
   "execution_count": 30,
   "metadata": {},
   "outputs": [
    {
     "data": {
      "text/plain": [
       "0    0.314373\n",
       "1   -2.177568\n",
       "2   -0.471615\n",
       "3   -2.180917\n",
       "4    0.194912\n",
       "Name: price, dtype: float64"
      ]
     },
     "execution_count": 30,
     "metadata": {},
     "output_type": "execute_result"
    }
   ],
   "source": [
    "# 4.2: Select Labels\n",
    "y = df_norm.iloc[:,6]\n",
    "y.head()"
   ]
  },
  {
   "cell_type": "markdown",
   "metadata": {},
   "source": [
    "# 4.3: Feature and Label Values\n",
    "\n",
    "We will need to extract just the numeric values for the features and labels as the TensorFlow model will expect just numeric values as input."
   ]
  },
  {
   "cell_type": "code",
   "execution_count": 33,
   "metadata": {},
   "outputs": [
    {
     "data": {
      "text/plain": [
       "(100,)"
      ]
     },
     "execution_count": 33,
     "metadata": {},
     "output_type": "execute_result"
    }
   ],
   "source": [
    "x_arr = x.values\n",
    "y_arr = y.values\n",
    "y_arr.shape"
   ]
  },
  {
   "cell_type": "markdown",
   "metadata": {},
   "source": [
    "# 4.4: Train and Test Split\n",
    "\n",
    "We will keep some part of the data aside as a test set. The model will not use this set during training and it will be used only for checking the performance of the model in trained and un-trained states. This way, we can make sure that we are going in the right direction with our model training.\n"
   ]
  },
  {
   "cell_type": "code",
   "execution_count": 45,
   "metadata": {},
   "outputs": [],
   "source": [
    "x_train, x_test, y_train, y_test = train_test_split(\n",
    "...     x_arr, y_arr, test_size=0.1, random_state=42)"
   ]
  },
  {
   "cell_type": "code",
   "execution_count": 46,
   "metadata": {},
   "outputs": [
    {
     "data": {
      "text/plain": [
       "array([[-0.73821066, -1.59873474, -0.53788852,  1.6030399 ,  1.26571914,\n",
       "        -1.10623862],\n",
       "       [-1.31343974,  0.55906675, -1.49840372, -0.63673641, -0.82885154,\n",
       "         1.10623862],\n",
       "       [ 0.41224751, -0.81407965, -1.49840372,  1.28307185,  1.56494352,\n",
       "         1.42230679],\n",
       "       [ 0.60399054, -1.69681663,  0.10245496,  1.6030399 ,  1.26571914,\n",
       "         1.73837497],\n",
       "       [-0.73821066, -0.02942457, -1.81857546, -0.31676836, -0.23040277,\n",
       "        -1.42230679],\n",
       "       [ 1.17921962,  0.65714864, -0.21771678,  0.96310381, -1.12807592,\n",
       "        -0.79017044],\n",
       "       [-0.73821066, -0.32367022, -0.53788852, -1.27667249, -0.23040277,\n",
       "         0.47410226],\n",
       "       [ 1.7544487 ,  0.65714864,  1.06297016,  1.28307185,  0.96649475,\n",
       "         0.15803409],\n",
       "       [ 0.41224751,  1.04947618, -0.85806025,  1.28307185,  0.06882161,\n",
       "        -0.47410226],\n",
       "       [-0.92995368, -1.59873474,  1.06297016,  0.64313577, -0.23040277,\n",
       "        -0.79017044],\n",
       "       [ 0.02876145, -0.32367022, -0.21771678,  0.96310381, -0.23040277,\n",
       "         0.47410226],\n",
       "       [ 0.41224751,  1.14755807,  1.06297016,  0.96310381,  1.56494352,\n",
       "        -0.47410226],\n",
       "       [-1.31343974,  1.73604938, -1.49840372, -1.59664054, -0.82885154,\n",
       "        -1.10623862],\n",
       "       [-1.31343974, -0.12750645, -0.21771678,  0.96310381, -0.82885154,\n",
       "        -0.47410226],\n",
       "       [ 1.7544487 ,  1.34372184, -0.53788852, -0.31676836, -0.23040277,\n",
       "        -0.47410226],\n",
       "       [ 0.60399054,  0.55906675,  0.74279843, -1.59664054, -1.4273003 ,\n",
       "         0.79017044],\n",
       "       [ 0.02876145, -1.30448908, -0.21771678,  1.28307185, -0.23040277,\n",
       "        -1.10623862],\n",
       "       [ 0.41224751, -1.50065286, -0.53788852, -0.31676836,  0.96649475,\n",
       "        -0.79017044],\n",
       "       [ 1.7544487 , -0.42175211, -0.85806025, -1.59664054,  1.56494352,\n",
       "         0.47410226],\n",
       "       [ 0.02876145, -0.02942457, -0.85806025, -0.95670445,  0.36804599,\n",
       "         1.73837497],\n",
       "       [ 1.7544487 , -0.61791588,  0.10245496, -0.31676836, -1.12807592,\n",
       "         0.15803409],\n",
       "       [-1.50518276,  1.34372184, -0.53788852,  0.00319968,  1.26571914,\n",
       "        -0.79017044],\n",
       "       [ 0.02876145,  1.34372184, -0.53788852,  0.00319968, -1.4273003 ,\n",
       "        -1.42230679],\n",
       "       [ 0.22050448,  0.06865732,  0.74279843,  0.00319968, -0.23040277,\n",
       "         1.42230679],\n",
       "       [-1.31343974, -1.69681663, -0.85806025, -0.31676836, -0.82885154,\n",
       "         1.42230679],\n",
       "       [ 0.02876145, -0.71599777,  1.06297016, -0.63673641,  0.96649475,\n",
       "         0.47410226],\n",
       "       [-1.50518276,  0.55906675,  0.74279843,  1.28307185,  0.66727037,\n",
       "         1.42230679],\n",
       "       [-0.54646763, -1.50065286,  1.06297016,  1.6030399 ,  0.66727037,\n",
       "         0.47410226],\n",
       "       [-1.12169671,  0.36290298,  0.10245496, -1.27667249, -0.82885154,\n",
       "        -1.42230679],\n",
       "       [-0.3547246 ,  0.16673921,  0.74279843,  1.28307185, -0.23040277,\n",
       "        -0.79017044],\n",
       "       [ 0.98747659,  0.85331241, -1.17823199, -0.63673641,  0.66727037,\n",
       "         0.15803409],\n",
       "       [ 0.60399054, -0.61791588,  1.06297016,  0.64313577, -0.23040277,\n",
       "        -1.42230679],\n",
       "       [-0.73821066, -0.32367022,  0.74279843,  1.28307185,  0.96649475,\n",
       "        -0.15803409],\n",
       "       [ 0.02876145, -1.69681663, -1.81857546,  1.6030399 , -1.12807592,\n",
       "        -1.42230679],\n",
       "       [ 1.17921962, -1.01024343, -1.17823199, -0.95670445,  0.06882161,\n",
       "        -0.15803409],\n",
       "       [-0.73821066, -1.30448908,  0.74279843,  1.6030399 , -1.12807592,\n",
       "         1.10623862],\n",
       "       [-1.50518276, -0.42175211, -0.53788852,  1.6030399 ,  1.56494352,\n",
       "        -0.79017044],\n",
       "       [-1.50518276, -0.32367022,  0.42262669,  0.32316772,  0.66727037,\n",
       "         0.47410226],\n",
       "       [ 0.02876145, -0.02942457,  1.06297016, -1.27667249,  1.56494352,\n",
       "         1.42230679],\n",
       "       [-0.73821066, -1.10832531,  0.10245496,  0.64313577, -1.12807592,\n",
       "        -0.15803409],\n",
       "       [-0.3547246 ,  1.14755807,  1.06297016, -0.31676836, -0.82885154,\n",
       "         1.42230679],\n",
       "       [-1.12169671, -0.519834  , -1.17823199, -0.95670445, -1.4273003 ,\n",
       "         1.10623862],\n",
       "       [-0.16298157,  1.34372184, -1.17823199, -0.31676836, -0.82885154,\n",
       "        -0.15803409],\n",
       "       [ 1.37096265, -0.81407965,  0.74279843, -1.27667249,  1.26571914,\n",
       "         0.15803409],\n",
       "       [ 1.7544487 ,  1.34372184, -0.21771678,  0.00319968, -0.82885154,\n",
       "        -0.15803409],\n",
       "       [ 1.7544487 , -0.91216154,  0.74279843, -1.59664054,  1.56494352,\n",
       "        -1.42230679],\n",
       "       [-1.50518276,  0.46098486, -0.21771678,  1.6030399 , -0.52962716,\n",
       "         1.10623862],\n",
       "       [-1.50518276,  1.53988561, -1.17823199, -0.63673641,  1.56494352,\n",
       "         1.10623862],\n",
       "       [ 1.17921962,  0.36290298,  1.06297016,  0.64313577,  0.36804599,\n",
       "        -0.15803409],\n",
       "       [ 0.02876145,  1.04947618,  1.06297016, -1.27667249,  0.66727037,\n",
       "         1.73837497],\n",
       "       [ 0.60399054, -1.10832531, -1.81857546,  0.96310381, -0.52962716,\n",
       "        -0.15803409],\n",
       "       [ 1.56270567,  0.16673921,  1.06297016, -1.27667249,  0.36804599,\n",
       "        -0.79017044],\n",
       "       [-0.92995368, -0.32367022, -0.53788852, -0.31676836, -1.4273003 ,\n",
       "        -1.42230679],\n",
       "       [-1.31343974, -1.79489851, -1.81857546,  0.00319968, -0.23040277,\n",
       "         0.79017044],\n",
       "       [ 0.60399054, -0.22558834,  0.74279843, -1.27667249, -1.4273003 ,\n",
       "         0.47410226],\n",
       "       [ 0.60399054,  0.85331241,  0.10245496,  0.00319968,  1.26571914,\n",
       "        -1.42230679],\n",
       "       [ 0.98747659,  1.83413127,  0.42262669, -0.63673641,  0.66727037,\n",
       "        -1.42230679],\n",
       "       [-1.50518276,  0.06865732,  1.3831419 , -0.95670445, -0.52962716,\n",
       "         0.15803409],\n",
       "       [-1.12169671,  1.6379675 ,  1.3831419 ,  0.32316772, -1.4273003 ,\n",
       "         1.10623862],\n",
       "       [-1.12169671, -0.61791588,  1.06297016, -0.95670445, -0.52962716,\n",
       "         1.73837497],\n",
       "       [ 0.02876145,  1.14755807, -1.49840372, -0.31676836,  0.96649475,\n",
       "         1.73837497],\n",
       "       [-0.3547246 ,  1.73604938,  1.06297016,  0.64313577, -1.12807592,\n",
       "        -0.79017044],\n",
       "       [-0.3547246 ,  1.14755807, -0.53788852, -0.63673641, -0.82885154,\n",
       "         0.15803409],\n",
       "       [-0.54646763, -0.519834  , -0.21771678,  0.64313577, -1.4273003 ,\n",
       "        -1.42230679],\n",
       "       [-0.16298157,  0.06865732, -0.85806025,  0.64313577,  1.56494352,\n",
       "        -0.15803409],\n",
       "       [-1.50518276,  1.04947618, -1.49840372, -0.63673641, -1.4273003 ,\n",
       "         0.79017044],\n",
       "       [ 0.22050448,  0.16673921, -0.53788852, -1.59664054, -1.12807592,\n",
       "         0.15803409],\n",
       "       [-0.54646763,  0.55906675,  1.06297016,  1.6030399 ,  1.56494352,\n",
       "        -1.42230679],\n",
       "       [-0.3547246 , -0.519834  ,  1.3831419 , -0.63673641,  0.36804599,\n",
       "        -0.79017044],\n",
       "       [ 1.94619173, -0.32367022,  0.74279843, -0.31676836,  1.26571914,\n",
       "        -0.79017044],\n",
       "       [ 0.98747659, -0.91216154,  1.3831419 , -0.95670445, -0.82885154,\n",
       "         1.42230679],\n",
       "       [-0.3547246 , -1.01024343,  1.06297016,  1.28307185, -0.82885154,\n",
       "        -1.10623862],\n",
       "       [-0.92995368,  0.55906675, -0.85806025,  1.28307185, -0.23040277,\n",
       "        -0.47410226],\n",
       "       [-0.54646763, -0.91216154,  0.74279843,  1.28307185, -1.12807592,\n",
       "         0.15803409],\n",
       "       [-0.16298157, -1.40257097, -1.17823199, -0.63673641,  0.36804599,\n",
       "        -1.10623862],\n",
       "       [ 0.02876145, -1.50065286,  1.3831419 , -0.63673641, -0.82885154,\n",
       "         1.42230679],\n",
       "       [-0.3547246 , -1.69681663,  1.3831419 ,  1.28307185, -1.12807592,\n",
       "         1.73837497],\n",
       "       [ 1.56270567, -0.02942457, -0.85806025,  0.64313577,  1.56494352,\n",
       "        -1.42230679],\n",
       "       [-0.3547246 ,  1.04947618,  1.06297016, -1.27667249,  0.36804599,\n",
       "        -0.47410226],\n",
       "       [-1.12169671, -0.519834  , -0.21771678, -0.31676836,  0.06882161,\n",
       "        -0.79017044],\n",
       "       [ 0.60399054, -0.71599777,  1.06297016, -1.59664054,  0.06882161,\n",
       "        -1.10623862],\n",
       "       [ 0.22050448,  1.14755807,  1.06297016,  0.00319968, -1.12807592,\n",
       "         1.10623862],\n",
       "       [ 0.60399054,  1.24563995, -1.81857546, -0.63673641,  0.06882161,\n",
       "        -0.47410226],\n",
       "       [ 1.37096265, -1.01024343,  0.10245496, -0.95670445,  0.06882161,\n",
       "         0.15803409],\n",
       "       [ 1.17921962,  0.65714864,  1.3831419 , -1.59664054,  1.56494352,\n",
       "         0.79017044],\n",
       "       [ 1.17921962, -0.61791588,  1.06297016,  0.32316772,  1.26571914,\n",
       "         0.15803409],\n",
       "       [-0.73821066,  1.04947618,  0.42262669,  0.64313577,  0.96649475,\n",
       "        -1.42230679],\n",
       "       [ 0.79573356, -1.01024343, -0.53788852, -0.95670445,  0.36804599,\n",
       "        -0.79017044],\n",
       "       [ 1.17921962,  1.04947618,  0.10245496,  0.96310381, -1.4273003 ,\n",
       "         1.10623862],\n",
       "       [-1.12169671,  1.04947618, -1.49840372,  0.32316772,  0.06882161,\n",
       "        -0.15803409]])"
      ]
     },
     "execution_count": 46,
     "metadata": {},
     "output_type": "execute_result"
    }
   ],
   "source": [
    "x_train"
   ]
  },
  {
   "cell_type": "markdown",
   "metadata": {},
   "source": [
    "# Task 5: Create the Model\n",
    "5.1: Create the Model\n",
    "\n",
    "Let's write a function that returns an untrained model of a certain architecture.\n"
   ]
  },
  {
   "cell_type": "code",
   "execution_count": 47,
   "metadata": {},
   "outputs": [
    {
     "name": "stdout",
     "output_type": "stream",
     "text": [
      "Model: \"sequential_2\"\n",
      "_________________________________________________________________\n",
      "Layer (type)                 Output Shape              Param #   \n",
      "=================================================================\n",
      "dense_8 (Dense)              (None, 10)                70        \n",
      "_________________________________________________________________\n",
      "dense_9 (Dense)              (None, 20)                220       \n",
      "_________________________________________________________________\n",
      "dense_10 (Dense)             (None, 5)                 105       \n",
      "_________________________________________________________________\n",
      "dense_11 (Dense)             (None, 1)                 6         \n",
      "=================================================================\n",
      "Total params: 401\n",
      "Trainable params: 401\n",
      "Non-trainable params: 0\n",
      "_________________________________________________________________\n"
     ]
    }
   ],
   "source": [
    "def get_model():\n",
    "    model = Sequential([\n",
    "        Dense(10,input_shape=(6,),activation='relu'), # 10 nodes\n",
    "        Dense(20,activation='relu'),\n",
    "        Dense(5,activation='relu'),\n",
    "        Dense(1)\n",
    "    ])\n",
    "    model.compile(\n",
    "        loss='mse',\n",
    "        optimizer='adam'\n",
    "    )\n",
    "    return model\n",
    "get_model().summary()"
   ]
  },
  {
   "cell_type": "code",
   "execution_count": 62,
   "metadata": {},
   "outputs": [
    {
     "name": "stdout",
     "output_type": "stream",
     "text": [
      "Model: \"sequential_10\"\n",
      "_________________________________________________________________\n",
      "Layer (type)                 Output Shape              Param #   \n",
      "=================================================================\n",
      "dense_28 (Dense)             (None, 10)                60        \n",
      "_________________________________________________________________\n",
      "dense_29 (Dense)             (None, 2)                 22        \n",
      "=================================================================\n",
      "Total params: 82\n",
      "Trainable params: 82\n",
      "Non-trainable params: 0\n",
      "_________________________________________________________________\n"
     ]
    }
   ],
   "source": [
    "def mod():\n",
    "    model12 = Sequential([\n",
    "        Dense(10, input_shape = (5,), activation = 'relu'),\n",
    "        Dense(2)\n",
    "    ])\n",
    "   \n",
    "    return model12\n",
    "mod().summary()"
   ]
  },
  {
   "cell_type": "markdown",
   "metadata": {},
   "source": [
    "# Task 6: Model Training\n",
    "6.1: Model Training\n",
    "\n",
    "We can use an EarlyStopping callback from Keras to stop the model training if the validation loss stops decreasing for a few epochs.\n"
   ]
  },
  {
   "cell_type": "code",
   "execution_count": 48,
   "metadata": {},
   "outputs": [
    {
     "name": "stdout",
     "output_type": "stream",
     "text": [
      "Train on 90 samples, validate on 10 samples\n",
      "Epoch 1/100\n",
      "90/90 [==============================] - 1s 6ms/sample - loss: 0.9261 - val_loss: 0.6746\n",
      "Epoch 2/100\n",
      "90/90 [==============================] - 0s 122us/sample - loss: 0.9071 - val_loss: 0.6670\n",
      "Epoch 3/100\n",
      "90/90 [==============================] - 0s 133us/sample - loss: 0.8895 - val_loss: 0.6630\n",
      "Epoch 4/100\n",
      "90/90 [==============================] - 0s 222us/sample - loss: 0.8735 - val_loss: 0.6587\n",
      "Epoch 5/100\n",
      "90/90 [==============================] - 0s 156us/sample - loss: 0.8588 - val_loss: 0.6570\n",
      "Epoch 6/100\n",
      "90/90 [==============================] - 0s 189us/sample - loss: 0.8424 - val_loss: 0.6566\n",
      "Epoch 7/100\n",
      "90/90 [==============================] - 0s 145us/sample - loss: 0.8268 - val_loss: 0.6570\n",
      "Epoch 8/100\n",
      "90/90 [==============================] - 0s 233us/sample - loss: 0.8118 - val_loss: 0.6585\n",
      "Epoch 9/100\n",
      "90/90 [==============================] - 0s 145us/sample - loss: 0.7974 - val_loss: 0.6596\n",
      "Epoch 10/100\n",
      "90/90 [==============================] - 0s 167us/sample - loss: 0.7818 - val_loss: 0.6615\n",
      "Epoch 11/100\n",
      "90/90 [==============================] - 0s 233us/sample - loss: 0.7678 - val_loss: 0.6643\n"
     ]
    }
   ],
   "source": [
    "es_cb = EarlyStopping(monitor='val_loss',patience=5)\n",
    "\n",
    "model = get_model()\n",
    "pred_untrain = model.predict(x_test)\n",
    "\n",
    "history = model.fit(\n",
    "    x_train,y_train,\n",
    "    validation_data=(x_test,y_test),\n",
    "    epochs=100,\n",
    "    callbacks=[es_cb]\n",
    "\n",
    ")"
   ]
  },
  {
   "cell_type": "code",
   "execution_count": null,
   "metadata": {},
   "outputs": [],
   "source": []
  },
  {
   "cell_type": "markdown",
   "metadata": {},
   "source": [
    "# 6.2: Plot Training and Validation Loss\n",
    "\n",
    "Let's use the plot_loss helper function to take a look training and validation loss.\n"
   ]
  },
  {
   "cell_type": "code",
   "execution_count": 49,
   "metadata": {},
   "outputs": [],
   "source": [
    "def plot_loss(history):\n",
    "    h = history.history\n",
    "    x_lim = len(h['loss'])\n",
    "    plt.figure(figsize=(8, 8))\n",
    "    plt.plot(range(x_lim), h['val_loss'], label = 'Validation Loss')\n",
    "    plt.plot(range(x_lim), h['loss'], label = 'Training Loss')\n",
    "    plt.xlabel('Epochs')\n",
    "    plt.ylabel('Loss')\n",
    "    plt.legend()\n",
    "    plt.show()\n",
    "    return"
   ]
  },
  {
   "cell_type": "code",
   "execution_count": 50,
   "metadata": {
    "scrolled": false
   },
   "outputs": [
    {
     "data": {
      "image/png": "[encoded data removed]",
      "text/plain": [
       "<Figure size 576x576 with 1 Axes>"
      ]
     },
     "metadata": {
      "needs_background": "light"
     },
     "output_type": "display_data"
    }
   ],
   "source": [
    "plot_loss(history)"
   ]
  },
  {
   "cell_type": "markdown",
   "metadata": {},
   "source": [
    "# Task 7: Predictions\n",
    "7.1: Plot Raw Predictions\n",
    "\n",
    "Let's use the compare_predictions helper function to compare predictions from the model when it was untrained and when it was trained.\n",
    "\n",
    "\n"
   ]
  },
  {
   "cell_type": "code",
   "execution_count": 51,
   "metadata": {},
   "outputs": [],
   "source": [
    "def compare_predictions(preds1, preds2, y_test):\n",
    "    plt.figure(figsize=(8, 8))\n",
    "    plt.plot(preds1, y_test, 'ro', label='Untrained Model')\n",
    "    plt.plot(preds2, y_test, 'go', label='Trained Model')\n",
    "    plt.xlabel('Preds')\n",
    "    plt.ylabel('Labels')\n",
    "    \n",
    "    y_min = min(min(y_test), min(preds1), min(preds2))\n",
    "    y_max = max(max(y_test), max(preds1), max(preds2))\n",
    "    \n",
    "    plt.xlim([y_min, y_max])\n",
    "    plt.ylim([y_min, y_max])\n",
    "    plt.plot([y_min, y_max], [y_min, y_max], 'b--')\n",
    "    plt.legend()\n",
    "    plt.show()\n",
    "    return"
   ]
  },
  {
   "cell_type": "code",
   "execution_count": 53,
   "metadata": {},
   "outputs": [
    {
     "data": {
      "image/png": "[encoded data removed]",
      "text/plain": [
       "<Figure size 576x576 with 1 Axes>"
      ]
     },
     "metadata": {
      "needs_background": "light"
     },
     "output_type": "display_data"
    }
   ],
   "source": [
    "pred_train = model.predict(x_test)\n",
    "compare_predictions(pred_untrain,pred_train,y_test)"
   ]
  },
  {
   "cell_type": "markdown",
   "metadata": {},
   "source": [
    "# 7.2: Plot Price Predictions\n",
    "\n",
    "The plot for price predictions and raw predictions will look the same with just one difference: The x and y axis scale is changed.\n"
   ]
  },
  {
   "cell_type": "code",
   "execution_count": 54,
   "metadata": {},
   "outputs": [
    {
     "name": "stderr",
     "output_type": "stream",
     "text": [
      "C:\\Users\\PAVILION 2\\Anaconda3\\lib\\site-packages\\numpy\\core\\_asarray.py:136: VisibleDeprecationWarning: Creating an ndarray from ragged nested sequences (which is a list-or-tuple of lists-or-tuples-or ndarrays with different lengths or shapes) is deprecated. If you meant to do this, you must specify 'dtype=object' when creating the ndarray\n",
      "  return array(a, dtype, copy=False, order=order, subok=True)\n"
     ]
    },
    {
     "data": {
      "image/png": "[encoded data removed]",
      "text/plain": [
       "<Figure size 576x576 with 1 Axes>"
      ]
     },
     "metadata": {
      "needs_background": "light"
     },
     "output_type": "display_data"
    }
   ],
   "source": [
    "price_untrained = [convert_label_values(y) for y in pred_untrain]\n",
    "price_trained = [convert_label_values(y) for y in pred_train]\n",
    "price_test = [convert_label_values(y) for y in y_test]\n",
    "\n",
    "compare_predictions(price_untrained,pred_train,price_test)"
   ]
  },
  {
   "cell_type": "code",
   "execution_count": null,
   "metadata": {},
   "outputs": [],
   "source": []
  }
 ],
 "metadata": {
  "kernelspec": {
   "display_name": "Python 3",
   "language": "python",
   "name": "python3"
  },
  "language_info": {
   "codemirror_mode": {
    "name": "ipython",
    "version": 3
   },
   "file_extension": ".py",
   "mimetype": "text/x-python",
   "name": "python",
   "nbconvert_exporter": "python",
   "pygments_lexer": "ipython3",
   "version": "3.7.9"
  }
 },
 "nbformat": 4,
 "nbformat_minor": 4
}
